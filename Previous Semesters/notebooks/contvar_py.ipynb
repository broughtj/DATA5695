{
  "cells": [
    {
      "cell_type": "markdown",
      "metadata": {
        "id": "n3gs05cVnPrd"
      },
      "source": [
        "## Control Variate Sampling\n"
      ]
    },
    {
      "cell_type": "code",
      "execution_count": 1,
      "metadata": {
        "id": "oHNFhgFZnPrg"
      },
      "outputs": [],
      "source": [
        "import numpy as np"
      ]
    },
    {
      "cell_type": "code",
      "execution_count": 2,
      "metadata": {
        "id": "O57UzeiHnPrh"
      },
      "outputs": [],
      "source": [
        "def f(x):\n",
        "    value = 1 /(1+x)\n",
        "    return value"
      ]
    },
    {
      "cell_type": "code",
      "execution_count": 3,
      "metadata": {
        "id": "yzctgNaFnPrh"
      },
      "outputs": [],
      "source": [
        "def g(x):\n",
        "    value = 1 + x\n",
        "    return value"
      ]
    },
    {
      "cell_type": "code",
      "execution_count": 4,
      "metadata": {
        "id": "HzWRdc6TnPrh"
      },
      "outputs": [],
      "source": [
        "truth = 3.0 / 2.0"
      ]
    },
    {
      "cell_type": "code",
      "execution_count": 5,
      "metadata": {
        "colab": {
          "base_uri": "https://localhost:8080/"
        },
        "id": "U97SJvFLnPrh",
        "outputId": "af73b9e0-ffea-47d3-b355-8d9e832c2e90"
      },
      "outputs": [
        {
          "output_type": "execute_result",
          "data": {
            "text/plain": [
              "1.5"
            ]
          },
          "metadata": {},
          "execution_count": 5
        }
      ],
      "source": [
        "truth"
      ]
    },
    {
      "cell_type": "markdown",
      "metadata": {
        "id": "4lRZD6g0nPri"
      },
      "source": [
        "### The Naive Solution"
      ]
    },
    {
      "cell_type": "code",
      "execution_count": 21,
      "metadata": {
        "id": "_0E16YUUnPri"
      },
      "outputs": [],
      "source": [
        "n = 15_000\n",
        "u = np.random.uniform(size=n)\n",
        "x1 = f(u)\n",
        "x1.mean()\n",
        "x1.var()\n",
        "x1.std()\n",
        "se = x1.std() / np.sqrt(n)"
      ]
    },
    {
      "cell_type": "code",
      "execution_count": 31,
      "metadata": {
        "colab": {
          "base_uri": "https://localhost:8080/"
        },
        "id": "f95wDPjsnPri",
        "outputId": "543ee249-e4f1-458a-c897-e77ae729f0e5"
      },
      "outputs": [
        {
          "output_type": "execute_result",
          "data": {
            "text/plain": [
              "np.float64(0.6934)"
            ]
          },
          "metadata": {},
          "execution_count": 31
        }
      ],
      "source": [
        "np.round(np.mean(x1), 4)"
      ]
    },
    {
      "cell_type": "code",
      "execution_count": 23,
      "metadata": {
        "colab": {
          "base_uri": "https://localhost:8080/"
        },
        "id": "irbOgMSenPrj",
        "outputId": "3144e5a0-5c6b-434a-edda-ee39886fb6f7"
      },
      "outputs": [
        {
          "output_type": "execute_result",
          "data": {
            "text/plain": [
              "np.float64(0.0011406080903478744)"
            ]
          },
          "metadata": {},
          "execution_count": 23
        }
      ],
      "source": [
        "se"
      ]
    },
    {
      "cell_type": "markdown",
      "metadata": {
        "id": "miDBu1-cnPrj"
      },
      "source": [
        "### The Control Variate Solution"
      ]
    },
    {
      "cell_type": "code",
      "execution_count": 24,
      "metadata": {
        "id": "26WIS2pxnPrj"
      },
      "outputs": [],
      "source": [
        "c = 0.4773\n",
        "y = g(u)\n",
        "x2 = f(u) + c * (g(u) - truth)"
      ]
    },
    {
      "cell_type": "code",
      "execution_count": 30,
      "metadata": {
        "colab": {
          "base_uri": "https://localhost:8080/"
        },
        "id": "rvq5AXZWnPrj",
        "outputId": "d680087a-9721-4984-e171-550644cbbb6b"
      },
      "outputs": [
        {
          "output_type": "execute_result",
          "data": {
            "text/plain": [
              "np.float64(0.6932)"
            ]
          },
          "metadata": {},
          "execution_count": 30
        }
      ],
      "source": [
        "np.round(np.mean(x2), 4)"
      ]
    },
    {
      "cell_type": "code",
      "execution_count": 26,
      "metadata": {
        "id": "a2x-MFQOnPrj"
      },
      "outputs": [],
      "source": [
        "se2 = x2.std() / np.sqrt(n)"
      ]
    },
    {
      "cell_type": "code",
      "execution_count": 19,
      "metadata": {
        "colab": {
          "base_uri": "https://localhost:8080/"
        },
        "id": "gR5gK_kCnPrj",
        "outputId": "6684ab56-8e00-4e11-ddd0-2265be51a535"
      },
      "outputs": [
        {
          "output_type": "execute_result",
          "data": {
            "text/plain": [
              "np.float64(0.0002006231759532942)"
            ]
          },
          "metadata": {},
          "execution_count": 19
        }
      ],
      "source": [
        "se2"
      ]
    },
    {
      "cell_type": "code",
      "execution_count": null,
      "metadata": {
        "id": "PccQLVLWnPrk"
      },
      "outputs": [],
      "source": [
        "\n",
        "\n"
      ]
    },
    {
      "cell_type": "markdown",
      "metadata": {
        "id": "P3Osg4gNnPrk"
      },
      "source": [
        "## Naive Monte Carlo in a BS World"
      ]
    },
    {
      "cell_type": "code",
      "execution_count": null,
      "metadata": {
        "id": "2Fvn1SpbnPrk"
      },
      "outputs": [],
      "source": [
        "import time\n",
        "t1 = time.time()"
      ]
    },
    {
      "cell_type": "code",
      "execution_count": null,
      "metadata": {
        "id": "kWwxdQYvnPrk"
      },
      "outputs": [],
      "source": [
        "def VanillaCallPayoff(spot, strike):\n",
        "    return np.maximum(spot - strike, 0.0)"
      ]
    },
    {
      "cell_type": "code",
      "execution_count": null,
      "metadata": {
        "id": "CoISO7-xnPrk"
      },
      "outputs": [],
      "source": [
        "# The same old same old parameters\n",
        "\n",
        "S = 41.0\n",
        "K = 40.0\n",
        "r = 0.08\n",
        "v = 0.30\n",
        "q = 0.0\n",
        "T = 1.0\n",
        "M = 10000 # number of MC replications\n",
        "N = 252   # number of MC steps in a particular path"
      ]
    },
    {
      "cell_type": "code",
      "execution_count": null,
      "metadata": {
        "id": "0lYtomzMnPrk"
      },
      "outputs": [],
      "source": [
        "dt = T\n",
        "nudt = (r - q - 0.5 * v * v) * dt\n",
        "sigdt = v * np.sqrt(dt)"
      ]
    },
    {
      "cell_type": "code",
      "execution_count": null,
      "metadata": {
        "id": "16vG747knPrk"
      },
      "outputs": [],
      "source": [
        "spot_t = np.empty((N))\n",
        "call_t = np.empty(M)\n",
        "\n",
        "z = np.random.normal(size=(M,N))\n",
        "\n",
        "for i in range(M):\n",
        "    spot_t[0] = S\n",
        "    for j in range(1,N):\n",
        "        spot_t[j] = S * np.exp(nudt + sigdt * z[i,j])\n",
        "    call_t[i] = VanillaCallPayoff(spot_t[-1], K)"
      ]
    },
    {
      "cell_type": "code",
      "execution_count": null,
      "metadata": {
        "id": "LoV-QZH-nPrk"
      },
      "outputs": [],
      "source": [
        "call_prc = np.exp(-r * T) * call_t.mean()\n",
        "t2 = time.time()"
      ]
    },
    {
      "cell_type": "code",
      "execution_count": null,
      "metadata": {
        "id": "8o-ftWRanPrk",
        "outputId": "b81e7a29-8e81-4434-c845-4214f1d72035"
      },
      "outputs": [
        {
          "data": {
            "text/plain": [
              "6.9288468728032111"
            ]
          },
          "execution_count": 81,
          "metadata": {},
          "output_type": "execute_result"
        }
      ],
      "source": [
        "call_prc"
      ]
    },
    {
      "cell_type": "code",
      "execution_count": null,
      "metadata": {
        "id": "dQnQd3c5nPrk"
      },
      "outputs": [],
      "source": [
        "se = call_t.std() / np.sqrt(M)"
      ]
    },
    {
      "cell_type": "code",
      "execution_count": null,
      "metadata": {
        "id": "U0as-2BynPrk",
        "outputId": "68432c63-c7ce-48c8-a93f-bd30add0c2fb"
      },
      "outputs": [
        {
          "data": {
            "text/plain": [
              "0.10848490988044222"
            ]
          },
          "execution_count": 83,
          "metadata": {},
          "output_type": "execute_result"
        }
      ],
      "source": [
        "se"
      ]
    },
    {
      "cell_type": "code",
      "execution_count": null,
      "metadata": {
        "id": "5JZ87hcnnPrk",
        "outputId": "c707fecb-4d6d-4007-dcc1-4595d44f14a2"
      },
      "outputs": [
        {
          "name": "stdout",
          "output_type": "stream",
          "text": [
            "The Naive Monte Carlo Price is: 6.929\n",
            "The Naive Monte Carlo StdErr is: 0.108485\n",
            "The total time take: 4.806628227233887\n"
          ]
        }
      ],
      "source": [
        "print(\"The Naive Monte Carlo Price is: {0:.3f}\".format(call_prc))\n",
        "print(\"The Naive Monte Carlo StdErr is: {0:.6f}\".format(se))\n",
        "print(\"The total time take: {0}\".format(t2-t1))"
      ]
    },
    {
      "cell_type": "code",
      "execution_count": null,
      "metadata": {
        "id": "6iPN5oF8nPrk"
      },
      "outputs": [],
      "source": []
    },
    {
      "cell_type": "markdown",
      "metadata": {
        "id": "PB229m6SnPrk"
      },
      "source": [
        "### The Control Variate Approach in a BS World\n",
        "\n",
        "We will use the BS-Delta formula for our control variate. We can write the BS Delta function as follows:"
      ]
    },
    {
      "cell_type": "code",
      "execution_count": null,
      "metadata": {
        "id": "l7_rQO7VnPrk"
      },
      "outputs": [],
      "source": [
        "from scipy.stats import norm"
      ]
    },
    {
      "cell_type": "code",
      "execution_count": null,
      "metadata": {
        "id": "gxd8WbExnPrl"
      },
      "outputs": [],
      "source": [
        "def BlackScholesDelta(spot, t, strike, expiry, volatility, rate, dividend):\n",
        "    tau = expiry - t\n",
        "    d1 = (np.log(spot/strike) + (rate - dividend + 0.5 * volatility * volatility) * tau) / (volatility * np.sqrt(tau))\n",
        "    delta = np.exp(-dividend * tau) * norm.cdf(d1)\n",
        "    return delta"
      ]
    },
    {
      "cell_type": "code",
      "execution_count": null,
      "metadata": {
        "id": "2enLKAA-nPrl",
        "outputId": "99ca693f-66e4-4a0c-ff06-f9febe0844fa"
      },
      "outputs": [
        {
          "name": "stderr",
          "output_type": "stream",
          "text": [
            "/home/brough/anaconda3/lib/python3.5/site-packages/ipykernel/__main__.py:3: RuntimeWarning: divide by zero encountered in double_scalars\n",
            "  app.launch_new_instance()\n",
            "/home/brough/anaconda3/lib/python3.5/site-packages/ipykernel/__main__.py:3: RuntimeWarning: invalid value encountered in sqrt\n",
            "  app.launch_new_instance()\n"
          ]
        }
      ],
      "source": [
        "erddt = np.exp((r - q) * dt)\n",
        "beta = -1.0\n",
        "\n",
        "spot_t = np.empty((N))\n",
        "call_t = np.empty(M)\n",
        "#cash_flow_t = np.zeros((engine.replications, ))\n",
        "z = np.random.normal(size=(M,N))\n",
        "\n",
        "for i in range(M):\n",
        "        #spot_t = spot\n",
        "        convar = 0.0\n",
        "        #z = np.random.normal(size=int(engine.time_steps))\n",
        "        spot_t[0] = S\n",
        "\n",
        "        for j in range(1,N):\n",
        "            t = i * dt\n",
        "            delta = BlackScholesDelta(S, t, K, T, v, r, q)\n",
        "            spot_t[j] = spot_t[j-1] * np.exp(nudt + sigdt * z[i,j])\n",
        "            convar += delta * (spot_t[j] -  spot_t[j-1]* erddt)\n",
        "            #spot_t = spot_tn\n",
        "\n",
        "        call_t[i] = VanillaCallPayoff(spot_t[-1], K) + beta * convar"
      ]
    },
    {
      "cell_type": "code",
      "execution_count": null,
      "metadata": {
        "id": "lazj1VX6nPrl"
      },
      "outputs": [],
      "source": [
        "disc = np.exp(-r * T)\n",
        "call_prc = disc * call_t.mean()"
      ]
    },
    {
      "cell_type": "code",
      "execution_count": null,
      "metadata": {
        "id": "7SqPEvQqnPrl",
        "outputId": "3bbce4e3-cad2-499a-c492-18eba92d443b"
      },
      "outputs": [
        {
          "data": {
            "text/plain": [
              "nan"
            ]
          },
          "execution_count": 104,
          "metadata": {},
          "output_type": "execute_result"
        }
      ],
      "source": [
        "call_prc"
      ]
    },
    {
      "cell_type": "code",
      "execution_count": null,
      "metadata": {
        "id": "6VPFkPwdnPrl"
      },
      "outputs": [],
      "source": []
    }
  ],
  "metadata": {
    "anaconda-cloud": {},
    "kernelspec": {
      "display_name": "Python [default]",
      "language": "python",
      "name": "python3"
    },
    "language_info": {
      "codemirror_mode": {
        "name": "ipython",
        "version": 3
      },
      "file_extension": ".py",
      "mimetype": "text/x-python",
      "name": "python",
      "nbconvert_exporter": "python",
      "pygments_lexer": "ipython3",
      "version": "3.5.2"
    },
    "colab": {
      "provenance": []
    }
  },
  "nbformat": 4,
  "nbformat_minor": 0
}