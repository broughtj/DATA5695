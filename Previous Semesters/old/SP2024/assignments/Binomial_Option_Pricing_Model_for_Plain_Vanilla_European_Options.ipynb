{
  "nbformat": 4,
  "nbformat_minor": 0,
  "metadata": {
    "colab": {
      "private_outputs": true,
      "provenance": []
    },
    "kernelspec": {
      "name": "python3",
      "display_name": "Python 3"
    },
    "language_info": {
      "name": "python"
    }
  },
  "cells": [
    {
      "cell_type": "code",
      "source": [
        "import numpy as np\n",
        "import matplotlib.pyplot as plt\n",
        "\n",
        "from scipy.stats import binom\n",
        "from typing import Callable"
      ],
      "metadata": {
        "id": "6VilUs7di4xq"
      },
      "execution_count": null,
      "outputs": []
    },
    {
      "cell_type": "code",
      "execution_count": null,
      "metadata": {
        "id": "BelJVMh5i1kQ"
      },
      "outputs": [],
      "source": [
        "def call_payoff(spot: np.ndarray, strike: np.ndarray) -> np.ndarray:\n",
        "    return np.maximum(spot - strike, 0.0)\n",
        "\n",
        "def put_payoff(spot: np.ndarray, strike: np.ndarray) -> np.ndarray:\n",
        "    return np.maximum(strike - spot, 0.0)"
      ]
    },
    {
      "cell_type": "code",
      "source": [
        "# European at first\n",
        "def binomial(\n",
        "    spot: float,\n",
        "    strike: float,\n",
        "    rate: float,\n",
        "    volatility: float,\n",
        "    dividend: float,\n",
        "    expiry: float,\n",
        "    steps: int,\n",
        "    payoff: Callable) -> float:\n",
        "\n",
        "    # For `steps` periods on the asset price tree:\n",
        "    # there will be `nodes = steps + 1 ` terminal price nodes\n",
        "    nodes = steps + 1\n",
        "\n",
        "    # For an asset price tree with `steps` periods the length of a single period is `h`\n",
        "    h = expiry / steps\n",
        "\n",
        "    # Calculate the up factor `u` and the down factor `d` from the given input data\n",
        "    u = np.exp((rate - dividend) * h + np.sqrt(h) * volatility)\n",
        "    d = np.exp((rate - dividend) * h - np.sqrt(h) * volatility)\n",
        "\n",
        "    # Pre-calculate the discount factor to get the present value of the option\n",
        "    disc = np.exp(-rate * expiry)\n",
        "\n",
        "    # The risk-neutral probability of an up move `pu` and a down move `pd` (its complement)\n",
        "    pu = (np.exp((rate - dividend) * h) - d) / (u - d)\n",
        "    pd = 1.0 - pu\n",
        "\n",
        "    # Start a counter variable for the option price initialized at zero\n",
        "    prc_t = 0.0\n",
        "\n",
        "    # Loop over the terminal nodes starting at the top and move downwards\n",
        "    for i in range(nodes):\n",
        "\n",
        "        # The spot price at node `i`\n",
        "        spot_t = spot * (u ** (steps - i) * (d ** i))\n",
        "\n",
        "        # The risk-neutral probability of node `i`\n",
        "        prob_t = binom.pmf(steps - i, steps, pu)\n",
        "\n",
        "        # The option payoff at node `i` weighted by the risk-neutral\n",
        "        # probability of node `i`\n",
        "        # NB: we are keeping a running sum (when the loop ends it will\n",
        "        # equal the summation of the risk-neutral probability weighted option\n",
        "        # payoff values)\n",
        "        prc_t += payoff(spot_t, strike) * prob_t\n",
        "\n",
        "    # Calculate the present value of the option and return to the caller\n",
        "    prc_t *= disc\n",
        "\n",
        "    return prc_t"
      ],
      "metadata": {
        "id": "P4v7T3-ti41x"
      },
      "execution_count": null,
      "outputs": []
    },
    {
      "cell_type": "code",
      "source": [
        "# This is a canonical problem in McDonald\n",
        "# See Chapter 10, p. 309 (Figure 10.5)\n",
        "spot = 41.0\n",
        "strike = 40.0\n",
        "rate = 0.08\n",
        "vol = 0.30\n",
        "expiry = 1.0\n",
        "div = 0.0\n",
        "steps = 3"
      ],
      "metadata": {
        "id": "3FufSHqgjBDV"
      },
      "execution_count": null,
      "outputs": []
    },
    {
      "cell_type": "code",
      "source": [
        "# Call the function and confirm that the price is $\\approx$ $7.074\n",
        "binomial(spot, strike, rate, vol, div, expiry, steps, call_payoff)"
      ],
      "metadata": {
        "id": "59PlRG89jQyV"
      },
      "execution_count": null,
      "outputs": []
    },
    {
      "cell_type": "code",
      "source": [
        "# Loop over successively larger number of timesteps in the tree\n",
        "# looking for convergence to the Black-Scholes price ($9.96)\n",
        "for i in range(10, 300, 10):\n",
        "    prc = binomial(spot, strike, rate, vol, div, expiry, i, call_payoff)\n",
        "    print(f\"({i}, {prc})\")"
      ],
      "metadata": {
        "id": "3rCXhcZojWP2"
      },
      "execution_count": null,
      "outputs": []
    },
    {
      "cell_type": "code",
      "source": [],
      "metadata": {
        "id": "tncWOkVIj-GH"
      },
      "execution_count": null,
      "outputs": []
    }
  ]
}