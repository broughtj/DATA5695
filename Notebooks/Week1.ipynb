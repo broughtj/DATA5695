{
  "nbformat": 4,
  "nbformat_minor": 0,
  "metadata": {
    "colab": {
      "provenance": []
    },
    "kernelspec": {
      "name": "python3",
      "display_name": "Python 3"
    },
    "language_info": {
      "name": "python"
    }
  },
  "cells": [
    {
      "cell_type": "markdown",
      "source": [
        "# DATA 5695/6695\n",
        "\n",
        "Yada yada yada ..."
      ],
      "metadata": {
        "id": "TYDAEMBYCmKJ"
      }
    },
    {
      "cell_type": "code",
      "execution_count": null,
      "metadata": {
        "id": "j-izDoo1BKje"
      },
      "outputs": [],
      "source": []
    }
  ]
}